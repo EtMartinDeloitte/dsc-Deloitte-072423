{
 "cells": [
  {
   "cell_type": "markdown",
   "metadata": {
    "nbgrader": {
     "grade": false,
     "grade_id": "58c5d138de0cf674aaa9b0286bb12bca",
     "locked": true,
     "schema_version": 3,
     "solution": false,
     "task": false
    }
   },
   "source": [
    "# Data Science Practice Checkpoint\n",
    "\n",
    "This assignment is designed to test your understanding of the checkpoint process. It covers:\n",
    "\n",
    " - Anwering a code question\n",
    " - Answering a short answer question\n",
    " \n",
    "Read the instructions carefully. You will be asked both to write code and to respond to a short answer question.\n",
    "\n",
    "**Note on checkpoint short answer questions:** Please use your own words. The expectation is that you have not copied and pasted from an external source, even if you consult another source to help craft your response. While the short answer questions are not necessarily being assessed on grammatical correctness or sentence structure, you should do your best to communicate yourself clearly."
   ]
  },
  {
   "cell_type": "markdown",
   "metadata": {
    "nbgrader": {
     "grade": false,
     "grade_id": "dbc759291e61caa3abff81965d58106d",
     "locked": true,
     "schema_version": 3,
     "solution": false,
     "task": false
    }
   },
   "source": [
    "## Imports\n",
    "\n",
    "You will usually have to import different packages into a checkpoint or other material we give you\n",
    "\n",
    "Don't worry if you don't have all the mechanics about what that means at this point\n",
    "\n",
    "Just run the cell below, which is an example that imports the `string` module\n",
    "\n",
    "(You do not need to use the `string` module to answer these questions, although technically you can use it if you want to)"
   ]
  },
  {
   "cell_type": "code",
   "execution_count": 1,
   "metadata": {
    "nbgrader": {
     "grade": false,
     "grade_id": "cell-43f5d1ddfd9550ba",
     "locked": true,
     "schema_version": 3,
     "solution": false,
     "task": false
    }
   },
   "outputs": [],
   "source": [
    "# Run this cell without changes\n",
    "# (Note that you are not able to edit this cell, only to run it)\n",
    "import string"
   ]
  },
  {
   "cell_type": "markdown",
   "metadata": {
    "nbgrader": {
     "grade": false,
     "grade_id": "89300e37881c21a479089ce596b6b69f",
     "locked": true,
     "schema_version": 3,
     "solution": false,
     "task": false
    }
   },
   "source": [
    "## Question 1\n",
    "\n",
    "### Question Content\n",
    "\n",
    "In the cell below, modify the `greet_user` function to do the following:\n",
    "\n",
    " - take a name as an argument\n",
    " - return the statement \"Greetings! I am `name` and I am pleased to make your acquaintance!\"\n",
    "\n",
    "Then assign the name `\"Gene Hackman\"` to the variable `name`.\n",
    "\n",
    "Run all cells to confirm the result.\n",
    "\n",
    "### Additional Notes\n",
    "\n",
    "Note that there are code snippets like this in each code cell where you need to write an answer:\n",
    "\n",
    "```python\n",
    "# your code here\n",
    "raise NotImplementedError\n",
    "```\n",
    "\n",
    "You can remove both of these lines, when you have replaced `None` with the right code. The purpose of these lines is to help you avoid accidentially forgetting to answer a question.\n",
    "\n",
    "If you click the `Validate` button at the top, that will tell you whether you successfully removed all of those `raise NotImplementedError` lines. It will not tell you whether your answer is actually correct.\n",
    "\n",
    "You can also generally ignore the language of \"your code here\". Instead pay attention to where the `None`s are that need to be replaced. "
   ]
  },
  {
   "cell_type": "code",
   "execution_count": 2,
   "metadata": {
    "nbgrader": {
     "grade": false,
     "grade_id": "cell-7106167b0ddee0a5",
     "locked": false,
     "schema_version": 3,
     "solution": true,
     "task": false
    }
   },
   "outputs": [],
   "source": [
    "# Replace None with appropriate code\n",
    "\n",
    "def greet_user(name):\n",
    "    \"\"\"\n",
    "    this function takes a string name as an argument \n",
    "    and returns a greeting including that name \n",
    "    \"\"\"\n",
    "    statement = None\n",
    "    ### BEGIN SOLUTION\n",
    "    statement = f\"Greetings! I am {name} and I am pleased to make your acquaintance!\"\n",
    "    ### END SOLUTION\n",
    "    \n",
    "    return statement\n",
    "    "
   ]
  },
  {
   "cell_type": "code",
   "execution_count": 3,
   "metadata": {
    "nbgrader": {
     "grade": false,
     "grade_id": "cell-dee65e5abdf05a93",
     "locked": false,
     "schema_version": 3,
     "solution": true,
     "task": false
    }
   },
   "outputs": [],
   "source": [
    "# Replace None with appropriate code\n",
    "name = None\n",
    "### BEGIN SOLUTION\n",
    "name = \"Gene Hackman\"\n",
    "### END SOLUTION"
   ]
  },
  {
   "cell_type": "code",
   "execution_count": 4,
   "metadata": {
    "nbgrader": {
     "grade": false,
     "grade_id": "cell-17700144d3c2e805",
     "locked": true,
     "schema_version": 3,
     "solution": false,
     "task": false
    }
   },
   "outputs": [
    {
     "name": "stdout",
     "output_type": "stream",
     "text": [
      "Greetings! I am Gene Hackman and I am pleased to make your acquaintance!\n"
     ]
    }
   ],
   "source": [
    "print(greet_user(name))"
   ]
  },
  {
   "cell_type": "markdown",
   "metadata": {
    "nbgrader": {
     "grade": false,
     "grade_id": "cell-8d7ddfd00efc0027",
     "locked": true,
     "schema_version": 3,
     "solution": false,
     "task": false
    }
   },
   "source": [
    "### Test Cells\n",
    "\n",
    "Similar to the imports cell above, you will not be able to modify the test cells. They contain a combination of visible and hidden tests. Make sure you restart your kernel and run all cells to make sure that you are passing the visible tests, although this doesn't fully guarantee that your answer is correct.\n",
    "\n",
    "You will see an error message explaining what is wrong if your answer does not pass the visible tests."
   ]
  },
  {
   "cell_type": "code",
   "execution_count": 5,
   "metadata": {
    "nbgrader": {
     "grade": true,
     "grade_id": "cell-1153c5a262a90d64",
     "locked": true,
     "points": 1,
     "schema_version": 3,
     "solution": false,
     "task": false
    }
   },
   "outputs": [
    {
     "name": "stdout",
     "output_type": "stream",
     "text": [
      "Final score:\n"
     ]
    },
    {
     "data": {
      "text/plain": [
       "1.0"
      ]
     },
     "execution_count": 5,
     "metadata": {},
     "output_type": "execute_result"
    }
   ],
   "source": [
    "# greet_user should return a string\n",
    "assert type(greet_user(\"Max\")) == str\n",
    "# name should be a string\n",
    "assert type(name) == str\n",
    "\n",
    "# PUT ALL WORK FOR THE ABOVE QUESTION ABOVE THIS CELL\n",
    "# THIS UNALTERABLE CELL CONTAINS HIDDEN TESTS\n",
    "### BEGIN HIDDEN TESTS\n",
    "score = 0\n",
    "try:\n",
    "    assert greet_user(\"Max\") == 'Greetings! I am Max and I am pleased to make your acquaintance!'\n",
    "    score += 0.5\n",
    "except AssertionError:\n",
    "    print(f\"\"\"\n",
    "    greet_user(\"Max\") should have returned: 'Greetings! I am Max and I am pleased to make your acquaintance!'\n",
    "    instead it returned:                    '{greet_user(\"Max\")}'\n",
    "    \"\"\")\n",
    "try:\n",
    "    assert name == \"Gene Hackman\"\n",
    "    score += 0.5\n",
    "except AssertionError:\n",
    "    print(f\"\"\"\n",
    "    The value of `name` should be: 'Gene Hackman'\n",
    "    Instead the value is:          '{name}'\n",
    "    \"\"\")\n",
    "print(\"Final score:\")\n",
    "score\n",
    "### END HIDDEN TESTS"
   ]
  },
  {
   "cell_type": "markdown",
   "metadata": {
    "nbgrader": {
     "grade": false,
     "grade_id": "873bfe5c67915f53800b3d0382a4e6b4",
     "locked": true,
     "schema_version": 3,
     "solution": false,
     "task": false
    }
   },
   "source": [
    "## Question 2\n",
    "\n",
    "### Question Content\n",
    "\n",
    "Please explain the purpose of checkpoints and code challenges in the Flatiron School Data Science program.\n",
    "\n",
    "### Additional Notes\n",
    "\n",
    "Double-click on the markdown cell where it says `YOUR ANSWER HERE` to write your answer (replacing the `YOUR ANSWER HERE` text). If you write your answer somewhere else, the grader will assume you did not answer the question.\n",
    "\n",
    "This is a short-answer question so there are no test cells. Instead your teacher will review and grade this answer manually."
   ]
  },
  {
   "cell_type": "markdown",
   "metadata": {
    "nbgrader": {
     "grade": true,
     "grade_id": "db75efa6fb1db7129194fbbfb2968f32",
     "locked": false,
     "points": 1,
     "schema_version": 3,
     "solution": true,
     "task": false
    }
   },
   "source": [
    "=== BEGIN MARK SCHEME ===\n",
    "\n",
    "The purpose of assessments are to assess a student's comprehension and application of our Data Science program's key content.\n",
    "\n",
    "Checkpoints are formative, in-depth assessments\n",
    "\n",
    "Code challenges are summative, end-to-end assessments\n",
    "\n",
    "=== END MARK SCHEME ==="
   ]
  }
 ],
 "metadata": {
  "celltoolbar": "Create Assignment",
  "kernelspec": {
   "display_name": "Python 3",
   "language": "python",
   "name": "python3"
  },
  "language_info": {
   "codemirror_mode": {
    "name": "ipython",
    "version": 3
   },
   "file_extension": ".py",
   "mimetype": "text/x-python",
   "name": "python",
   "nbconvert_exporter": "python",
   "pygments_lexer": "ipython3",
   "version": "3.8.5"
  }
 },
 "nbformat": 4,
 "nbformat_minor": 4
}
